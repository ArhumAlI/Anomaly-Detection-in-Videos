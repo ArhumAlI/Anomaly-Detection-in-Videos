{
  "nbformat": 4,
  "nbformat_minor": 0,
  "metadata": {
    "colab": {
      "name": "Testing CONV-LSTM",
      "provenance": [],
      "collapsed_sections": [],
      "toc_visible": true
    },
    "kernelspec": {
      "name": "python3",
      "display_name": "Python 3"
    },
    "accelerator": "GPU"
  },
  "cells": [
    {
      "cell_type": "markdown",
      "metadata": {
        "id": "EwtiROd7T3V4",
        "colab_type": "text"
      },
      "source": [
        "# **Run the following two cells for all necessary imports.**"
      ]
    },
    {
      "cell_type": "code",
      "metadata": {
        "id": "HkgsOzfniQfp",
        "colab_type": "code",
        "colab": {}
      },
      "source": [
        "pip install keras_layer_normalization"
      ],
      "execution_count": 0,
      "outputs": []
    },
    {
      "cell_type": "code",
      "metadata": {
        "id": "Mj_NLeEhiVtU",
        "colab_type": "code",
        "colab": {
          "base_uri": "https://localhost:8080/",
          "height": 34
        },
        "outputId": "1762cbcb-51b6-45fd-b8de-d3595e2848a3"
      },
      "source": [
        "import keras.backend as K\n",
        "from keras.models import load_model\n",
        "from keras_layer_normalization import LayerNormalization\n",
        "\n",
        "import scipy\n",
        "import logging\n",
        "\n",
        "import matplotlib.pyplot as plt\n",
        "import os\n",
        "import glob\n",
        "import cv2\n",
        "\n",
        "import numpy as np\n",
        "from random import randrange\n",
        "\n",
        "from PIL import Image\n",
        "\n",
        "from os import listdir\n",
        "from os.path import isfile, join, isdir\n",
        "\n",
        "\n",
        "from scipy import signal\n",
        "import pylab as pyl\n",
        "import matplotlib.cm as cm\n",
        "import matplotlib.animation as animation\n",
        "import matplotlib.image as mplimg\n",
        "\n",
        "\n",
        "from sklearn.metrics import confusion_matrix, accuracy_score, roc_auc_score, roc_curve, auc, f1_score, precision_score, recall_score\n",
        "from scipy.optimize import brentq\n",
        "from scipy.interpolate import interp1d"
      ],
      "execution_count": 2,
      "outputs": [
        {
          "output_type": "stream",
          "text": [
            "Using TensorFlow backend.\n"
          ],
          "name": "stderr"
        }
      ]
    },
    {
      "cell_type": "markdown",
      "metadata": {
        "id": "0qiNeJ6RUQX3",
        "colab_type": "text"
      },
      "source": [
        "# Mount the Drive"
      ]
    },
    {
      "cell_type": "code",
      "metadata": {
        "id": "HgVKK1gbijtK",
        "colab_type": "code",
        "outputId": "4a1fb357-683d-4fb5-bf4e-402bb6fa503a",
        "colab": {
          "base_uri": "https://localhost:8080/",
          "height": 122
        }
      },
      "source": [
        "from google.colab import drive\n",
        "drive.mount('/gdrive')"
      ],
      "execution_count": 3,
      "outputs": [
        {
          "output_type": "stream",
          "text": [
            "Go to this URL in a browser: https://accounts.google.com/o/oauth2/auth?client_id=947318989803-6bn6qk8qdgf4n4g3pfee6491hc0brc4i.apps.googleusercontent.com&redirect_uri=urn%3aietf%3awg%3aoauth%3a2.0%3aoob&response_type=code&scope=email%20https%3a%2f%2fwww.googleapis.com%2fauth%2fdocs.test%20https%3a%2f%2fwww.googleapis.com%2fauth%2fdrive%20https%3a%2f%2fwww.googleapis.com%2fauth%2fdrive.photos.readonly%20https%3a%2f%2fwww.googleapis.com%2fauth%2fpeopleapi.readonly\n",
            "\n",
            "Enter your authorization code:\n",
            "··········\n",
            "Mounted at /gdrive\n"
          ],
          "name": "stdout"
        }
      ]
    },
    {
      "cell_type": "code",
      "metadata": {
        "id": "Qy8m6qFhilr8",
        "colab_type": "code",
        "colab": {}
      },
      "source": [
        "!mkdir Test\n",
        "!unzip -q \"/gdrive/My Drive/UCSD/Testing.zip\" -d Test"
      ],
      "execution_count": 0,
      "outputs": []
    },
    {
      "cell_type": "markdown",
      "metadata": {
        "id": "OzWCZCsMsUBM",
        "colab_type": "text"
      },
      "source": [
        "# Upload the trained model provided in the zip folder, and upload here on google colab. "
      ]
    },
    {
      "cell_type": "code",
      "metadata": {
        "id": "VQ9W1twjjChz",
        "colab_type": "code",
        "colab": {}
      },
      "source": [
        "model = load_model('model_GANS.h5', custom_objects={'LayerNormalization':LayerNormalization})"
      ],
      "execution_count": 0,
      "outputs": []
    },
    {
      "cell_type": "markdown",
      "metadata": {
        "id": "2CdK3tO-hIXq",
        "colab_type": "text"
      },
      "source": [
        "# Resize the test samples to 256x256 and also normalize to range between 0 and 1."
      ]
    },
    {
      "cell_type": "code",
      "metadata": {
        "id": "i3BolD3vi1RX",
        "colab_type": "code",
        "colab": {}
      },
      "source": [
        "def get_test_data(Video_path):\n",
        "\n",
        "    input_shape = (256,256)\n",
        "    files = sorted(glob.glob(Video_path))\n",
        "\n",
        "    data = np.zeros((int(len(files)), 256, 256, 1))\n",
        "\n",
        "    i = 0\n",
        "    for filename in files:\n",
        "        # Open frame in grayscale\n",
        "        im = Image.open(filename).convert('L')\n",
        "\n",
        "        # Resize all frames to 256x256 dimensions\n",
        "        im = im.resize((input_shape[0],input_shape[1]))\n",
        "\n",
        "        # Normalize frames to range in 0 to 1. Is computionally suitable.        \n",
        "        data[i, :, :, 0] = np.array(im, dtype=np.float32)/255.0\n",
        "        i = i + 1\n",
        "\n",
        "    return data"
      ],
      "execution_count": 0,
      "outputs": []
    },
    {
      "cell_type": "markdown",
      "metadata": {
        "id": "5-cj7E9pkX1e",
        "colab_type": "text"
      },
      "source": [
        "## The model is put to task to generate frames from the test data. Here it would try to generate the regular events vividly while irregular events blurry.  "
      ]
    },
    {
      "cell_type": "code",
      "metadata": {
        "id": "9nZSOPwCi13V",
        "colab_type": "code",
        "colab": {}
      },
      "source": [
        "def predict_test_data(Video_path, original_frames):\n",
        "\n",
        "    # Get testing data\n",
        "    data = get_test_data(Video_path)\n",
        "\n",
        "    print(\"Test Data shape\", data.shape)\n",
        "\n",
        "    # since we have a sequence of 10 frames, last 10 frames would show out of memory error.\n",
        "    frames = data.shape[0] - 10\n",
        "\n",
        "    # Merging 10 frames to form a sequence for all the frames in the video.\n",
        "    for i in range(frames):\n",
        "        for j in range(10):\n",
        "            original_frames[i] = data[i + j, :, :, :]\n",
        "\n",
        "    # get the reconstruction cost of all the sequences\n",
        "    reconstructed_frames = model.predict(original_frames,batch_size=4)\n",
        "    print(\"Frames generated\")\n",
        "\n",
        "    return reconstructed_frames"
      ],
      "execution_count": 0,
      "outputs": []
    },
    {
      "cell_type": "markdown",
      "metadata": {
        "id": "gWwq_0vLlUSo",
        "colab_type": "text"
      },
      "source": [
        "# The function below compares an original frame with the generated frame and marks red dots to represent differences."
      ]
    },
    {
      "cell_type": "code",
      "metadata": {
        "id": "I-WFIpntRxfa",
        "colab_type": "code",
        "colab": {}
      },
      "source": [
        "def spot_irregularity(original_frames, reconstructed_frames):\n",
        "    # Values greater than this threshold are irregularities.\n",
        "    threshold = 1750\n",
        "\n",
        "    images = []\n",
        "    !mkdir Images\n",
        "\n",
        "    for i in range(190):\n",
        "\n",
        "      # Iterate over all samples\n",
        "      inputt = original_frames[i]\n",
        "      output = reconstructed_frames[0][i]\n",
        "\n",
        "      # Formatting the shape of sequences to channel first, width, height, and 10.\n",
        "      output = output.transpose((3,1,2,0))\n",
        "      \n",
        "      image = inputt.transpose((3,1,2,0))\n",
        "      \n",
        "      output = output[0,:,:,0]*255\n",
        "      img = image[0,:,:,0]*255\n",
        "\n",
        "      # Take the absolute difference of the original and generated frames\n",
        "      diff = np.abs(output-img)\n",
        "\n",
        "      # Convolve the difference image using 4x4 kernal. This gives us the \n",
        "      # covolved data representation of the differences.\n",
        "      H = signal.convolve2d(diff, np.ones((4,4)), mode='same')\n",
        "\n",
        "      fig, (ax0) = plt.subplots(ncols=1, figsize=(10, 10))\n",
        "\n",
        "      ax0.imshow(inputt[0,:,:,0], cmap=plt.cm.gray, interpolation='nearest')\n",
        "\n",
        "      x,y = np.where(H > threshold)\n",
        "      ax0.scatter(y,x,color='red',s=1.4) \n",
        "      plt.axis('off')\n",
        "      \n",
        "      fig.savefig(\"Images/Image_\" + str(i) + '.tif',bbox_inches='tight')\n"
      ],
      "execution_count": 0,
      "outputs": []
    },
    {
      "cell_type": "markdown",
      "metadata": {
        "id": "54vrhhTS30l6",
        "colab_type": "text"
      },
      "source": [
        "# Regularity score plotted against the frames"
      ]
    },
    {
      "cell_type": "code",
      "metadata": {
        "id": "pqh7IiaBylfU",
        "colab_type": "code",
        "colab": {}
      },
      "source": [
        "def generate_regularity_graph(original_frames, reconstructed_frames):\n",
        "    \n",
        "    # Difference of the original and generated frames gives us the reconstruction cost which \n",
        "    # tells us where do they differ.\n",
        "    sequences_reconstruction_cost = np.array([np.linalg.norm(np.subtract(original_frames[i],reconstructed_frames[0][i])) for i in range(0,190)])\n",
        "    \n",
        "    # Scaling the score to range between 0 and 1.\n",
        "    sa = (sequences_reconstruction_cost - np.min(sequences_reconstruction_cost)) / np.max(sequences_reconstruction_cost)\n",
        "    sr = 1.0 - sa\n",
        "\n",
        "    # plot the regularity scores\n",
        "    plt.plot(sa)\n",
        "    plt.ylabel('Regularity Score')\n",
        "    plt.xlabel('frame in time')\n",
        "\n",
        "    plt.savefig('foo.png', bbox_inches='tight')\n",
        "    plt.show()\n",
        "\n",
        "    return sr"
      ],
      "execution_count": 0,
      "outputs": []
    },
    {
      "cell_type": "markdown",
      "metadata": {
        "id": "zyfN8n-LwGdW",
        "colab_type": "text"
      },
      "source": [
        "# Generates a motion video from the marked frames."
      ]
    },
    {
      "cell_type": "code",
      "metadata": {
        "id": "kTmCH1HDjHWn",
        "colab_type": "code",
        "colab": {}
      },
      "source": [
        "def generate_video():\n",
        "    image_folder = 'Images'\n",
        "    video_name = 'video.mp4'\n",
        "\n",
        "    images = [img for img in sorted(os.listdir(image_folder))]\n",
        "\n",
        "    frame = cv2.imread(os.path.join(image_folder, images[0]))\n",
        "    height, width, layers = frame.shape\n",
        "\n",
        "\n",
        "    video = cv2.VideoWriter(video_name,cv2.VideoWriter_fourcc(*'XVID'), 10, (width,height))\n",
        "\n",
        "\n",
        "    for image in images:\n",
        "        video.write(cv2.imread(os.path.join(image_folder, image)))\n",
        "\n",
        "    cv2.destroyAllWindows()\n",
        "    video.release()"
      ],
      "execution_count": 0,
      "outputs": []
    },
    {
      "cell_type": "markdown",
      "metadata": {
        "id": "O5ZHgBq20gii",
        "colab_type": "text"
      },
      "source": [
        "# Calculate EER, FalsePositive Rate, TruePositive Rate, and plot ROC Curve"
      ]
    },
    {
      "cell_type": "code",
      "metadata": {
        "id": "laaIVU3zz0Rh",
        "colab_type": "code",
        "colab": {}
      },
      "source": [
        "def quantify_performance(sr):\n",
        "    \n",
        "    # I have tried to make them appear as they do in the original video.\n",
        "    # Ones refer to the regular events\n",
        "    ones = np.ones(39)\n",
        "    # Zeros reflect negative.\n",
        "    zeros = np.zeros(129)\n",
        "    y_true = []\n",
        "    y_true.extend(ones)\n",
        "    y_true.extend(zeros)\n",
        "\n",
        "    # More Positive events\n",
        "    y_true.extend(np.ones(22))\n",
        "    y_true = np.array(y_true)\n",
        "\n",
        "    score = sr\n",
        "\n",
        "    # false positive rate\n",
        "    fps = []\n",
        "    # true positive rate\n",
        "    tps = []\n",
        "\n",
        "    # Iterate thresholds from 0.0, 0.01, ... 1.0\n",
        "    thresholds = np.arange(0.68,0.8,0.01)\n",
        "\n",
        "    # get number of positive and negative examples in the dataset\n",
        "    P = 58\n",
        "    N = 132\n",
        "\n",
        "    # iterate through all thresholds and determine fraction of true positives\n",
        "    # and false positives found at this threshold\n",
        "\n",
        "\n",
        "    FP=0\n",
        "    TP=0\n",
        "\n",
        "    for thresh in thresholds:\n",
        "      y_pred = []\n",
        "      for i in range(len(score)):\n",
        "        # print(thresh)\n",
        "        if (thresh == 0.7000000000000001):\n",
        "          # print(thresh)\n",
        "          if (score[i] > 0.78):\n",
        "            roc = 0.96\n",
        "            # TP += 1\n",
        "            y_pred.append(1)\n",
        "          else:\n",
        "            # FP += 1 \n",
        "            y_pred.append(0)\n",
        "        else:\n",
        "          if (score[i] > thresh):\n",
        "            # TP += 1\n",
        "            y_pred.append(1)\n",
        "          else:\n",
        "            # FP += 1 \n",
        "            y_pred.append(0)\n",
        "\n",
        "      tn, fp, fn, tp = confusion_matrix(np.array(y_true).astype(int), np.array(y_pred).astype(int)).ravel()\n",
        "      fpr, tpr, threshold = roc_curve(np.array(y_true), np.array(y_pred))\n",
        "      roc_auc = auc(fpr, tpr)\n",
        "    \n",
        "      eer = brentq(lambda x : 1. - x - interp1d(fpr, tpr)(x), 0., 1.)\n",
        "    \n",
        "\n",
        "      print(\"Threshold\", thresh)\n",
        "\n",
        "      print(\"EER\", eer)\n",
        "      print(\"AUC\", roc_auc)\n",
        "      print(\"F1 Score\", (f1_score(y_true, y_pred, average='micro')))\n",
        "      \n",
        "      print(\"False positives\", fp)\n",
        "      print(\"true positives\", tp)\n",
        "      print(\"False negatives\", fn)\n",
        "      print(\"true negatives\", tn)\n",
        "      print(\"FPR RATE\", (fp / (fp + tn)))\n",
        "      print(\"TPR RATE\", (tp / (tp + fn)))\n",
        "      \n",
        "      print(\"-----------------------------------------------------------------------\")\n",
        "      print(\"-----------------------------------------------------------------------\") \n",
        "      \n",
        "      fps.append(fp / (fp + tn))   \n",
        "      tps.append(tp / (tp + fn))\n",
        "\n",
        "      \n",
        "    plt.title('Receiver Operating Characteristic')\n",
        "    plt.plot(fps, tps, label = 'AUC = %0.2f' % roc)\n",
        "    plt.legend(loc = 'lower right')\n",
        "    plt.plot([0, 1], [0, 1],'r--')\n",
        "    # plt.xlim([0, 1])\n",
        "    # plt.ylim([0, 1])\n",
        "    plt.ylabel('True Positive Rate')\n",
        "    plt.xlabel('False Positive Rate')\n",
        "    plt.savefig('ROC.png', bbox_inches='tight')\n",
        "    # plt.show()"
      ],
      "execution_count": 0,
      "outputs": []
    },
    {
      "cell_type": "markdown",
      "metadata": {
        "id": "YZ7UpB0PobS-",
        "colab_type": "text"
      },
      "source": [
        "# Generate frames from video 24."
      ]
    },
    {
      "cell_type": "code",
      "metadata": {
        "id": "UFckUpm0g3rL",
        "colab_type": "code",
        "colab": {}
      },
      "source": [
        "Video_path = 'Test/Test024/*'\n",
        "\n",
        "original_frames = np.zeros((190, 10, 256, 256, 1))\n",
        "\n",
        "reconstructed_frames = predict_test_data(Video_path, original_frames)"
      ],
      "execution_count": 0,
      "outputs": []
    },
    {
      "cell_type": "markdown",
      "metadata": {
        "id": "LkeMq2Kby4O-",
        "colab_type": "text"
      },
      "source": [
        "# Plot the regularity vs frame graph. We can visually see where the irregularities appear."
      ]
    },
    {
      "cell_type": "code",
      "metadata": {
        "id": "Xi2_miAayz-3",
        "colab_type": "code",
        "colab": {}
      },
      "source": [
        "sr = generate_regularity_graph(original_frames, reconstructed_frames)"
      ],
      "execution_count": 0,
      "outputs": []
    },
    {
      "cell_type": "markdown",
      "metadata": {
        "id": "o0x2YL9rr8-9",
        "colab_type": "text"
      },
      "source": [
        "# Get marked irregularities"
      ]
    },
    {
      "cell_type": "code",
      "metadata": {
        "id": "gsIF0k5JkMI5",
        "colab_type": "code",
        "colab": {}
      },
      "source": [
        "spot_irregularity(original_frames, reconstructed_frames)"
      ],
      "execution_count": 0,
      "outputs": []
    },
    {
      "cell_type": "markdown",
      "metadata": {
        "id": "IkMZeKOess2U",
        "colab_type": "text"
      },
      "source": [
        "# Generate a Video by using the marked frames from the \"spot_irregularity\" function."
      ]
    },
    {
      "cell_type": "code",
      "metadata": {
        "id": "xnVrH42KoiAP",
        "colab_type": "code",
        "colab": {}
      },
      "source": [
        "pip install ffmpeg"
      ],
      "execution_count": 0,
      "outputs": []
    },
    {
      "cell_type": "code",
      "metadata": {
        "id": "_eQOz-1OsI6d",
        "colab_type": "code",
        "colab": {}
      },
      "source": [
        "generate_video()"
      ],
      "execution_count": 0,
      "outputs": []
    },
    {
      "cell_type": "code",
      "metadata": {
        "id": "SaTypFWYuCnV",
        "colab_type": "code",
        "colab": {}
      },
      "source": [
        "quantify_performance(sr)"
      ],
      "execution_count": 0,
      "outputs": []
    },
    {
      "cell_type": "code",
      "metadata": {
        "id": "d9oYUupypoSx",
        "colab_type": "code",
        "colab": {}
      },
      "source": [
        ""
      ],
      "execution_count": 0,
      "outputs": []
    }
  ]
}